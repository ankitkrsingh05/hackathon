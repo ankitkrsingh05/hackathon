{
 "cells": [
  {
   "cell_type": "code",
   "execution_count": 1,
   "metadata": {},
   "outputs": [],
   "source": [
    "import pandas as pd"
   ]
  },
  {
   "cell_type": "code",
   "execution_count": 2,
   "metadata": {},
   "outputs": [],
   "source": [
    "df = pd.read_excel(\"Dataset_Datathon_Fraud_Detection_28122022.xlsx\")"
   ]
  },
  {
   "cell_type": "code",
   "execution_count": 3,
   "metadata": {},
   "outputs": [
    {
     "data": {
      "text/plain": [
       "<bound method NDFrame.describe of            customer_id     event_dttm_Deli    event_type_nm  \\\n",
       "0        customer_id_0 2022-10-01 10:51:36  CHANGE_PASSWORD   \n",
       "1        customer_id_0 2022-10-01 11:15:21   SESSION_SIGNIN   \n",
       "2        customer_id_0 2022-10-01 11:31:55   SESSION_SIGNIN   \n",
       "3        customer_id_0 2022-10-01 11:45:42   SESSION_SIGNIN   \n",
       "4        customer_id_0 2022-10-03 10:28:24          DEPOSIT   \n",
       "...                ...                 ...              ...   \n",
       "10964  customer_id_199 2022-10-29 01:22:11   SESSION_SIGNIN   \n",
       "10965  customer_id_199 2022-10-29 12:12:53   SESSION_SIGNIN   \n",
       "10966  customer_id_199 2022-10-29 12:13:27          PAYMENT   \n",
       "10967  customer_id_199 2022-10-29 15:26:58   SESSION_SIGNIN   \n",
       "10968  customer_id_199 2022-10-31 21:55:16          PAYMENT   \n",
       "\n",
       "      client_defined_event_type_nm               event_desc  \\\n",
       "0                            RENEW  Login password recovery   \n",
       "1                   SESSION_SIGNIN                    Login   \n",
       "2                   SESSION_SIGNIN                    Login   \n",
       "3                   SESSION_SIGNIN                    Login   \n",
       "4                          100_BKO            Payment order   \n",
       "...                            ...                      ...   \n",
       "10964       MOB_APP_SESSION_SIGNIN                    Login   \n",
       "10965       MOB_APP_SESSION_SIGNIN                    Login   \n",
       "10966              UTILITY_PAYMENT         Cellular payment   \n",
       "10967       MOB_APP_SESSION_SIGNIN                    Login   \n",
       "10968                 POS_PURCHASE                 Purchase   \n",
       "\n",
       "       operaton_amt_100 (rupees)  active phone call  remote desktop protokol  \\\n",
       "0                            0.0                NaN                      NaN   \n",
       "1                            0.0                NaN                      NaN   \n",
       "2                            0.0                NaN                      NaN   \n",
       "3                            0.0                NaN                      NaN   \n",
       "4                       116820.0                1.0                      0.0   \n",
       "...                          ...                ...                      ...   \n",
       "10964                        0.0                0.0                      0.0   \n",
       "10965                        0.0                0.0                      0.0   \n",
       "10966                      944.0                0.0                      0.0   \n",
       "10967                        0.0                0.0                      0.0   \n",
       "10968                     1168.2                NaN                      NaN   \n",
       "\n",
       "       emulator              f  ...   os device_model screensize  \\\n",
       "0           NaN  St Petersburg  ...  NaN          NaN        NaN   \n",
       "1           NaN  St Petersburg  ...  NaN          NaN        NaN   \n",
       "2           NaN  St Petersburg  ...  NaN          NaN        NaN   \n",
       "3           NaN  St Petersburg  ...  NaN          NaN        NaN   \n",
       "4           NaN            NaN  ...  iOS       iPhone    375x812   \n",
       "...         ...            ...  ...  ...          ...        ...   \n",
       "10964       NaN       Kalkutta  ...  iOS       iPhone    375x812   \n",
       "10965       NaN    Vladikavkaz  ...  iOS       iPhone    375x812   \n",
       "10966       NaN    Vladikavkaz  ...  iOS       iPhone    375x812   \n",
       "10967       NaN       Kalkutta  ...  iOS       iPhone    375x812   \n",
       "10968       NaN            NaN  ...  NaN          NaN        NaN   \n",
       "\n",
       "      agentconnectiontype  screen_hash  device for user reciever  \\\n",
       "0                     NaN  287067538.0              new      old   \n",
       "1                     NaN  287067538.0              new      old   \n",
       "2                     NaN -205759950.0              new      old   \n",
       "3                     NaN  287067538.0              new      old   \n",
       "4                    wifi          NaN              NaN      old   \n",
       "...                   ...          ...              ...      ...   \n",
       "10964            cellular          NaN              old      old   \n",
       "10965                wifi          NaN              old      old   \n",
       "10966                wifi          NaN              old      old   \n",
       "10967            cellular          NaN              old      old   \n",
       "10968                 NaN          NaN              NaN      old   \n",
       "\n",
       "                password change fast change of ip ip not equal to previous  \n",
       "0                           NaN               NaN              IP differes  \n",
       "1      happened on the same day               NaN              IP differes  \n",
       "2      happened on the same day               NaN              IP differes  \n",
       "3      happened on the same day               NaN              IP differes  \n",
       "4                           NaN               NaN                      NaN  \n",
       "...                         ...               ...                      ...  \n",
       "10964                       NaN               NaN              IP differes  \n",
       "10965                       NaN               NaN              IP differes  \n",
       "10966                       NaN               NaN              IP differes  \n",
       "10967                       NaN               NaN              IP differes  \n",
       "10968                       NaN               NaN                      NaN  \n",
       "\n",
       "[10969 rows x 21 columns]>"
      ]
     },
     "execution_count": 3,
     "metadata": {},
     "output_type": "execute_result"
    }
   ],
   "source": [
    "df.describe"
   ]
  },
  {
   "cell_type": "code",
   "execution_count": 4,
   "metadata": {},
   "outputs": [
    {
     "data": {
      "text/plain": [
       "Index(['customer_id', 'event_dttm_Deli', 'event_type_nm',\n",
       "       'client_defined_event_type_nm', 'event_desc',\n",
       "       'operaton_amt_100 (rupees)', 'active phone call',\n",
       "       'remote desktop protokol', 'emulator', 'f', 'device_id', 'os',\n",
       "       'device_model', 'screensize', 'agentconnectiontype', 'screen_hash',\n",
       "       'device for user', 'reciever', 'password change', 'fast change of ip',\n",
       "       'ip not equal to previous'],\n",
       "      dtype='object')"
      ]
     },
     "execution_count": 4,
     "metadata": {},
     "output_type": "execute_result"
    }
   ],
   "source": [
    "df.columns"
   ]
  },
  {
   "cell_type": "code",
   "execution_count": 5,
   "metadata": {},
   "outputs": [
    {
     "data": {
      "text/plain": [
       "0        IP differes\n",
       "1        IP differes\n",
       "2        IP differes\n",
       "3        IP differes\n",
       "4                NaN\n",
       "            ...     \n",
       "10964    IP differes\n",
       "10965    IP differes\n",
       "10966    IP differes\n",
       "10967    IP differes\n",
       "10968            NaN\n",
       "Name: ip not equal to previous, Length: 10969, dtype: object"
      ]
     },
     "execution_count": 5,
     "metadata": {},
     "output_type": "execute_result"
    }
   ],
   "source": [
    "df[\"ip not equal to previous\"]"
   ]
  },
  {
   "cell_type": "code",
   "execution_count": 6,
   "metadata": {},
   "outputs": [],
   "source": [
    "df.sort_values(['customer_id', 'event_dttm_Deli'], inplace=True)\n",
    "df['new_session'] = (df['event_type_nm'] == 'SESSION_SIGNIN').astype(int)\n",
    "df['session_num'] = df.groupby('customer_id')['new_session'].cumsum()\n",
    "df.drop(['new_session'], axis=1, inplace=True)"
   ]
  },
  {
   "cell_type": "code",
   "execution_count": null,
   "metadata": {},
   "outputs": [],
   "source": []
  },
  {
   "cell_type": "code",
   "execution_count": 7,
   "metadata": {},
   "outputs": [],
   "source": [
    "df['pre_auth_flag'] = df['event_desc'].fillna('').str.lower().str.contains('authorization')"
   ]
  },
  {
   "cell_type": "code",
   "execution_count": 32,
   "metadata": {},
   "outputs": [],
   "source": [
    "df['pre_auth_amount'] = (df['operaton_amt_100 (rupees)'][df['pre_auth_flag']])"
   ]
  },
  {
   "cell_type": "code",
   "execution_count": 35,
   "metadata": {},
   "outputs": [],
   "source": [
    "df['pre_auth_amount'] = df['pre_auth_amount'].fillna(0)"
   ]
  },
  {
   "cell_type": "code",
   "execution_count": 36,
   "metadata": {},
   "outputs": [
    {
     "data": {
      "text/plain": [
       "Index(['customer_id', 'event_dttm_Deli', 'event_type_nm',\n",
       "       'client_defined_event_type_nm', 'event_desc',\n",
       "       'operaton_amt_100 (rupees)', 'active phone call',\n",
       "       'remote desktop protokol', 'emulator', 'f', 'device_id', 'os',\n",
       "       'device_model', 'screensize', 'agentconnectiontype', 'screen_hash',\n",
       "       'device for user', 'reciever', 'password change', 'fast change of ip',\n",
       "       'ip not equal to previous', 'session_num', 'pre_auth_flag',\n",
       "       'pre_auth_amount'],\n",
       "      dtype='object')"
      ]
     },
     "execution_count": 36,
     "metadata": {},
     "output_type": "execute_result"
    }
   ],
   "source": [
    "df.columns"
   ]
  },
  {
   "cell_type": "code",
   "execution_count": 11,
   "metadata": {},
   "outputs": [],
   "source": [
    "from scipy import stats"
   ]
  },
  {
   "cell_type": "code",
   "execution_count": 12,
   "metadata": {},
   "outputs": [],
   "source": [
    "import numpy as np"
   ]
  },
  {
   "cell_type": "code",
   "execution_count": 38,
   "metadata": {},
   "outputs": [],
   "source": [
    "session_df = df.fillna('').groupby(['customer_id','session_num']).agg(\n",
    "    timestamp_min = ('event_dttm_Deli',min),timestamp_max = ('event_dttm_Deli',max),\n",
    "    event_desc = ('event_desc',lambda x: ','.join(x)),\n",
    "    amount_sum = ('operaton_amt_100 (rupees)',lambda x: sum(x)),\n",
    "    curr_device = ('device_model',lambda x: max(x)),#value_counts().index[0] if x.value_counts().index else '')\n",
    "    curr_location = ('f','max'),\n",
    "    pre_auth_count = ('pre_auth_flag','sum'),\n",
    "    pre_auth_amt = ('pre_auth_amount','sum')\n",
    "#     payment_cnt = ('event_desc',lambda x: sum(('Purchase' in x) | ('Payment' in x)))\n",
    ")"
   ]
  },
  {
   "cell_type": "code",
   "execution_count": 39,
   "metadata": {},
   "outputs": [
    {
     "data": {
      "text/html": [
       "<div>\n",
       "<style scoped>\n",
       "    .dataframe tbody tr th:only-of-type {\n",
       "        vertical-align: middle;\n",
       "    }\n",
       "\n",
       "    .dataframe tbody tr th {\n",
       "        vertical-align: top;\n",
       "    }\n",
       "\n",
       "    .dataframe thead th {\n",
       "        text-align: right;\n",
       "    }\n",
       "</style>\n",
       "<table border=\"1\" class=\"dataframe\">\n",
       "  <thead>\n",
       "    <tr style=\"text-align: right;\">\n",
       "      <th></th>\n",
       "      <th></th>\n",
       "      <th>timestamp_min</th>\n",
       "      <th>timestamp_max</th>\n",
       "      <th>event_desc</th>\n",
       "      <th>amount_sum</th>\n",
       "      <th>curr_device</th>\n",
       "      <th>curr_location</th>\n",
       "      <th>pre_auth_count</th>\n",
       "      <th>pre_auth_amt</th>\n",
       "    </tr>\n",
       "    <tr>\n",
       "      <th>customer_id</th>\n",
       "      <th>session_num</th>\n",
       "      <th></th>\n",
       "      <th></th>\n",
       "      <th></th>\n",
       "      <th></th>\n",
       "      <th></th>\n",
       "      <th></th>\n",
       "      <th></th>\n",
       "      <th></th>\n",
       "    </tr>\n",
       "  </thead>\n",
       "  <tbody>\n",
       "    <tr>\n",
       "      <td rowspan=\"5\" valign=\"top\">customer_id_0</td>\n",
       "      <td>0</td>\n",
       "      <td>2022-10-01 10:51:36</td>\n",
       "      <td>2022-10-01 10:51:36</td>\n",
       "      <td>Login password recovery</td>\n",
       "      <td>0.00</td>\n",
       "      <td></td>\n",
       "      <td>St Petersburg</td>\n",
       "      <td>0.0</td>\n",
       "      <td>0.0</td>\n",
       "    </tr>\n",
       "    <tr>\n",
       "      <td>1</td>\n",
       "      <td>2022-10-01 11:15:21</td>\n",
       "      <td>2022-10-01 11:15:21</td>\n",
       "      <td>Login</td>\n",
       "      <td>0.00</td>\n",
       "      <td></td>\n",
       "      <td>St Petersburg</td>\n",
       "      <td>0.0</td>\n",
       "      <td>0.0</td>\n",
       "    </tr>\n",
       "    <tr>\n",
       "      <td>2</td>\n",
       "      <td>2022-10-01 11:31:55</td>\n",
       "      <td>2022-10-01 11:31:55</td>\n",
       "      <td>Login</td>\n",
       "      <td>0.00</td>\n",
       "      <td></td>\n",
       "      <td>St Petersburg</td>\n",
       "      <td>0.0</td>\n",
       "      <td>0.0</td>\n",
       "    </tr>\n",
       "    <tr>\n",
       "      <td>3</td>\n",
       "      <td>2022-10-01 11:45:42</td>\n",
       "      <td>2022-10-03 10:28:24</td>\n",
       "      <td>Login,Payment order</td>\n",
       "      <td>116820.00</td>\n",
       "      <td>iPhone</td>\n",
       "      <td>St Petersburg</td>\n",
       "      <td>0.0</td>\n",
       "      <td>0.0</td>\n",
       "    </tr>\n",
       "    <tr>\n",
       "      <td>4</td>\n",
       "      <td>2022-10-03 10:29:37</td>\n",
       "      <td>2022-10-03 10:29:37</td>\n",
       "      <td>Login</td>\n",
       "      <td>0.00</td>\n",
       "      <td></td>\n",
       "      <td>St Petersburg</td>\n",
       "      <td>0.0</td>\n",
       "      <td>0.0</td>\n",
       "    </tr>\n",
       "    <tr>\n",
       "      <td>...</td>\n",
       "      <td>...</td>\n",
       "      <td>...</td>\n",
       "      <td>...</td>\n",
       "      <td>...</td>\n",
       "      <td>...</td>\n",
       "      <td>...</td>\n",
       "      <td>...</td>\n",
       "      <td>...</td>\n",
       "      <td>...</td>\n",
       "    </tr>\n",
       "    <tr>\n",
       "      <td rowspan=\"5\" valign=\"top\">customer_id_99</td>\n",
       "      <td>20</td>\n",
       "      <td>2022-11-18 18:35:22</td>\n",
       "      <td>2022-11-18 20:14:57</td>\n",
       "      <td>Login,Purchase,Purchase,Purchase</td>\n",
       "      <td>17223.28</td>\n",
       "      <td>iPhone</td>\n",
       "      <td>Moscow</td>\n",
       "      <td>0.0</td>\n",
       "      <td>0.0</td>\n",
       "    </tr>\n",
       "    <tr>\n",
       "      <td>21</td>\n",
       "      <td>2022-11-18 20:20:19</td>\n",
       "      <td>2022-11-19 18:32:44</td>\n",
       "      <td>Login,Payment between Telebank clients (Person...</td>\n",
       "      <td>78962.06</td>\n",
       "      <td>iPhone</td>\n",
       "      <td>Moscow</td>\n",
       "      <td>0.0</td>\n",
       "      <td>0.0</td>\n",
       "    </tr>\n",
       "    <tr>\n",
       "      <td>22</td>\n",
       "      <td>2022-11-20 00:08:33</td>\n",
       "      <td>2022-11-20 00:08:33</td>\n",
       "      <td>Login</td>\n",
       "      <td>0.00</td>\n",
       "      <td>iPhone</td>\n",
       "      <td>Moscow</td>\n",
       "      <td>0.0</td>\n",
       "      <td>0.0</td>\n",
       "    </tr>\n",
       "    <tr>\n",
       "      <td>23</td>\n",
       "      <td>2022-11-20 15:36:10</td>\n",
       "      <td>2022-11-20 15:47:50</td>\n",
       "      <td>Login,Purchase</td>\n",
       "      <td>1294.46</td>\n",
       "      <td>iPhone</td>\n",
       "      <td>Moscow</td>\n",
       "      <td>0.0</td>\n",
       "      <td>0.0</td>\n",
       "    </tr>\n",
       "    <tr>\n",
       "      <td>24</td>\n",
       "      <td>2022-11-20 20:11:08</td>\n",
       "      <td>2022-11-20 20:11:08</td>\n",
       "      <td>Login</td>\n",
       "      <td>0.00</td>\n",
       "      <td>iPhone</td>\n",
       "      <td>Moscow</td>\n",
       "      <td>0.0</td>\n",
       "      <td>0.0</td>\n",
       "    </tr>\n",
       "  </tbody>\n",
       "</table>\n",
       "<p>2746 rows × 8 columns</p>\n",
       "</div>"
      ],
      "text/plain": [
       "                                 timestamp_min       timestamp_max  \\\n",
       "customer_id    session_num                                           \n",
       "customer_id_0  0           2022-10-01 10:51:36 2022-10-01 10:51:36   \n",
       "               1           2022-10-01 11:15:21 2022-10-01 11:15:21   \n",
       "               2           2022-10-01 11:31:55 2022-10-01 11:31:55   \n",
       "               3           2022-10-01 11:45:42 2022-10-03 10:28:24   \n",
       "               4           2022-10-03 10:29:37 2022-10-03 10:29:37   \n",
       "...                                        ...                 ...   \n",
       "customer_id_99 20          2022-11-18 18:35:22 2022-11-18 20:14:57   \n",
       "               21          2022-11-18 20:20:19 2022-11-19 18:32:44   \n",
       "               22          2022-11-20 00:08:33 2022-11-20 00:08:33   \n",
       "               23          2022-11-20 15:36:10 2022-11-20 15:47:50   \n",
       "               24          2022-11-20 20:11:08 2022-11-20 20:11:08   \n",
       "\n",
       "                                                                   event_desc  \\\n",
       "customer_id    session_num                                                      \n",
       "customer_id_0  0                                      Login password recovery   \n",
       "               1                                                        Login   \n",
       "               2                                                        Login   \n",
       "               3                                          Login,Payment order   \n",
       "               4                                                        Login   \n",
       "...                                                                       ...   \n",
       "customer_id_99 20                            Login,Purchase,Purchase,Purchase   \n",
       "               21           Login,Payment between Telebank clients (Person...   \n",
       "               22                                                       Login   \n",
       "               23                                              Login,Purchase   \n",
       "               24                                                       Login   \n",
       "\n",
       "                            amount_sum curr_device  curr_location  \\\n",
       "customer_id    session_num                                          \n",
       "customer_id_0  0                  0.00              St Petersburg   \n",
       "               1                  0.00              St Petersburg   \n",
       "               2                  0.00              St Petersburg   \n",
       "               3             116820.00      iPhone  St Petersburg   \n",
       "               4                  0.00              St Petersburg   \n",
       "...                                ...         ...            ...   \n",
       "customer_id_99 20             17223.28      iPhone         Moscow   \n",
       "               21             78962.06      iPhone         Moscow   \n",
       "               22                 0.00      iPhone         Moscow   \n",
       "               23              1294.46      iPhone         Moscow   \n",
       "               24                 0.00      iPhone         Moscow   \n",
       "\n",
       "                            pre_auth_count  pre_auth_amt  \n",
       "customer_id    session_num                                \n",
       "customer_id_0  0                       0.0           0.0  \n",
       "               1                       0.0           0.0  \n",
       "               2                       0.0           0.0  \n",
       "               3                       0.0           0.0  \n",
       "               4                       0.0           0.0  \n",
       "...                                    ...           ...  \n",
       "customer_id_99 20                      0.0           0.0  \n",
       "               21                      0.0           0.0  \n",
       "               22                      0.0           0.0  \n",
       "               23                      0.0           0.0  \n",
       "               24                      0.0           0.0  \n",
       "\n",
       "[2746 rows x 8 columns]"
      ]
     },
     "execution_count": 39,
     "metadata": {},
     "output_type": "execute_result"
    }
   ],
   "source": [
    "session_df"
   ]
  },
  {
   "cell_type": "code",
   "execution_count": null,
   "metadata": {},
   "outputs": [],
   "source": [
    "session_df['duration'] = (session_df['timestamp_max'] - session_df['timestamp_min']).dt.total_seconds()"
   ]
  },
  {
   "cell_type": "code",
   "execution_count": null,
   "metadata": {},
   "outputs": [],
   "source": [
    "session_df"
   ]
  },
  {
   "cell_type": "code",
   "execution_count": null,
   "metadata": {},
   "outputs": [],
   "source": [
    "session_df['event_desc'] = session_df['event_desc'].str.lower()"
   ]
  },
  {
   "cell_type": "code",
   "execution_count": null,
   "metadata": {},
   "outputs": [],
   "source": [
    "session_df['event_desc_flag'] = session_df['event_desc'].str.contains('password') & (session_df['event_desc'].str.contains('payment') | session_df['event_desc'].str.contains('purchase'))"
   ]
  },
  {
   "cell_type": "code",
   "execution_count": null,
   "metadata": {},
   "outputs": [],
   "source": [
    "session_df"
   ]
  },
  {
   "cell_type": "code",
   "execution_count": null,
   "metadata": {},
   "outputs": [],
   "source": [
    "from statistics import mean,mode,stdev"
   ]
  },
  {
   "cell_type": "code",
   "execution_count": null,
   "metadata": {},
   "outputs": [],
   "source": [
    "customer_df = df.fillna('').groupby(['customer_id']).agg(\n",
    "    amount_stdev = ('operaton_amt_100 (rupees)',stdev),amount_mean = ('operaton_amt_100 (rupees)','mean'),device = ('device_model',max),operating_sys = ('os','max'),location = ('f','max') \n",
    ")"
   ]
  },
  {
   "cell_type": "code",
   "execution_count": null,
   "metadata": {},
   "outputs": [],
   "source": [
    "customer_df"
   ]
  },
  {
   "cell_type": "code",
   "execution_count": null,
   "metadata": {},
   "outputs": [],
   "source": [
    "df_merged = pd.merge(session_df, customer_df, left_on='customer_id', right_on='customer_id', how='left')#.drop('id1', axis=1)"
   ]
  },
  {
   "cell_type": "code",
   "execution_count": null,
   "metadata": {},
   "outputs": [],
   "source": [
    "df_merged"
   ]
  },
  {
   "cell_type": "code",
   "execution_count": null,
   "metadata": {},
   "outputs": [],
   "source": [
    "df_merged['amount_flag'] = df_merged['amount_sum'] > df_merged['amount_stdev'] "
   ]
  },
  {
   "cell_type": "code",
   "execution_count": null,
   "metadata": {},
   "outputs": [],
   "source": [
    "df_merged['device_flag'] = df_merged['curr_device'] != df_merged['device'] "
   ]
  },
  {
   "cell_type": "code",
   "execution_count": null,
   "metadata": {},
   "outputs": [],
   "source": [
    "df_merged['location_flag'] = df_merged['curr_location'] != df_merged['location'] "
   ]
  },
  {
   "cell_type": "code",
   "execution_count": null,
   "metadata": {},
   "outputs": [],
   "source": [
    "df_merged"
   ]
  },
  {
   "cell_type": "code",
   "execution_count": null,
   "metadata": {},
   "outputs": [],
   "source": [
    "df_merged.to_csv('final_merged.csv')"
   ]
  }
 ],
 "metadata": {
  "kernelspec": {
   "display_name": "Python 3",
   "language": "python",
   "name": "python3"
  },
  "language_info": {
   "codemirror_mode": {
    "name": "ipython",
    "version": 3
   },
   "file_extension": ".py",
   "mimetype": "text/x-python",
   "name": "python",
   "nbconvert_exporter": "python",
   "pygments_lexer": "ipython3",
   "version": "3.7.4"
  }
 },
 "nbformat": 4,
 "nbformat_minor": 2
}
